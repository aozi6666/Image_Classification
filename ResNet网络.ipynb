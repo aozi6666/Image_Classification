{
 "cells": [
  {
   "cell_type": "code",
   "execution_count": 1,
   "id": "ef7a7f1a",
   "metadata": {},
   "outputs": [],
   "source": [
    "import numpy as np\n",
    "import tensorflow as tf\n",
    "from tensorflow.keras import activations\n",
    "from tensorflow.keras.datasets import mnist"
   ]
  },
  {
   "cell_type": "code",
   "execution_count": 2,
   "id": "9bda88fc",
   "metadata": {},
   "outputs": [],
   "source": [
    "# 定义ResNet的残差块\n",
    "class Residual(tf.keras.Model):\n",
    "    # 指明残差块的通道数，是否使用1*1卷积，步长\n",
    "    def __init__(self, num_channels, use_1x1conv=False, strides=1):\n",
    "        super(Residual, self).__init__()\n",
    "        # 卷积层\n",
    "        self.conv1 = tf.keras.layers.Conv2D(num_channels, kernel_size=3, padding='same', strides=strides)\n",
    "        self.conv2 = tf.keras.layers.Conv2D(num_channels, kernel_size=3, padding='same')\n",
    "        \n",
    "        # X 是否使用 1x1 卷积（走短路是否有层 1x1 卷积）\n",
    "        if use_1x1conv:\n",
    "            self.conv3 = tf.keras.layers.Conv2D(num_channels, kernel_size=1, strides=strides)\n",
    "        else:\n",
    "            self.conv3 = None\n",
    "            \n",
    "        # 指明 BN 层 (正则化)\n",
    "        self.bn1 = tf.keras.layers.BatchNormalization()\n",
    "        self.bn2 = tf.keras.layers.BatchNormalization()\n",
    "    \n",
    "    # 定义前向传播过程\n",
    "    def call(self, X):\n",
    "        # 卷积 BN 激活\n",
    "        Y = activations.relu(self.bn1(self.conv1(X)))\n",
    "        \n",
    "        # 卷积 BN\n",
    "        Y = self.bn2(self.conv2(Y))\n",
    "         \n",
    "        # 对输入数据进行 1*1 卷积--保证通道数相同\n",
    "        if self.conv3:\n",
    "            X = self.conv3(X)\n",
    "            \n",
    "        # 返回与输入相加后激活的结果\n",
    "        return activations.relu(Y + X)"
   ]
  },
  {
   "cell_type": "code",
   "execution_count": 3,
   "id": "8c874dc2",
   "metadata": {},
   "outputs": [],
   "source": [
    "# ResNet网络中模块的构成\n",
    "class ResnetBlock(tf.keras.layers.Layer):\n",
    "    # 网络层的定义：输出通道数（卷积核个数），模块中包含的残差块个数，是否为第一个模块\n",
    "    def __init__(self, num_channels, num_residuals, first_block=False):\n",
    "        super(ResnetBlock, self).__init__()\n",
    "        \n",
    "        # 模块中的网络层\n",
    "        self.listLayers=[]\n",
    "        \n",
    "        # 遍历模块中所有的层\n",
    "        for i in range(num_residuals):\n",
    "            # 若为第一个残差块并且不是第一个模块，则使用1*1卷积，步长为2（目的是减小特征图，并增大通道数）\n",
    "            if i == 0 and not first_block:\n",
    "                self.listLayers.append(Residual(num_channels, use_1x1conv=True, strides=2))\n",
    "            # 否则不使用1*1卷积，步长为1\n",
    "            else:\n",
    "                self.listLayers.append(Residual(num_channels))\n",
    "                \n",
    "    # 定义前向传播过程\n",
    "    def call(self, X):\n",
    "        # 所有层依次向前传播即可\n",
    "        for layer in self.listLayers.layers:\n",
    "            X = layer(X)\n",
    "        return X"
   ]
  },
  {
   "cell_type": "code",
   "execution_count": 4,
   "id": "5c5c3649",
   "metadata": {},
   "outputs": [],
   "source": [
    "# 构建ResNet网络\n",
    "class ResNet(tf.keras.Model):\n",
    "    # 初始化：指定每个模块中的残差块的个数\n",
    "    def __init__(self, num_blocks):\n",
    "        super(ResNet, self).__init__()\n",
    "        \n",
    "         # 输入层：7*7卷积，步长为2\n",
    "        self.conv = tf.keras.layers.Conv2D(64, kernel_size=7, strides=2, padding='same')\n",
    "        \n",
    "        # BN层\n",
    "        self.bn = tf.keras.layers.BatchNormalization()\n",
    "        \n",
    "        # 激活层\n",
    "        self.relu = tf.keras.layers.Activation('relu')\n",
    "        \n",
    "        # 最大池化层\n",
    "        self.mp = tf.keras.layers.MaxPool2D(pool_size=3, strides=2, padding='same')\n",
    "        \n",
    "        # 第一个block，通道数为64\n",
    "        self.resnet_block1 = ResnetBlock(64, num_blocks[0], first_block=True)\n",
    "        \n",
    "        # 第二个block，通道数为128\n",
    "        self.resnet_block2 = ResnetBlock(128, num_blocks[1])\n",
    "        \n",
    "        # 第三个block，通道数为256\n",
    "        self.resnet_block3 = ResnetBlock(256, num_blocks[2])\n",
    "        \n",
    "        # 第四个block，通道数为512\n",
    "        self.resnet_block4 = ResnetBlock(512, num_blocks[3])\n",
    "        \n",
    "        # 全局平均池化\n",
    "        self.gap = tf.keras.layers.GlobalAvgPool2D()\n",
    "        \n",
    "        # 全连接层：分类\n",
    "        self.fc = tf.keras.layers.Dense(units=10, activation=activations.softmax)\n",
    "        \n",
    "     # 前向传播过程\n",
    "    def call(self, x):\n",
    "        x = self.conv(x)  # 卷积\n",
    "        x = self.bn(x)  # BN\n",
    "        x = self.relu(x) # 激活\n",
    "        x = self.mp(x)  # 最大池化\n",
    "            \n",
    "        # 残差模块\n",
    "        x = self.resnet_block1(x)\n",
    "        x = self.resnet_block2(x)\n",
    "        x = self.resnet_block3(x)\n",
    "        x = self.resnet_block4(x)\n",
    "            \n",
    "        x = self.gap(x)  # 全局平均池化\n",
    "        x = self.fc(x)  # 全链接层\n",
    "        return x"
   ]
  },
  {
   "cell_type": "code",
   "execution_count": 5,
   "id": "c25f272a",
   "metadata": {},
   "outputs": [],
   "source": [
    "# 模型实例化：指定每个block中的残差块个数 \n",
    "my_net = ResNet([3, 4, 6, 3])"
   ]
  },
  {
   "cell_type": "code",
   "execution_count": 6,
   "id": "2e664cf3",
   "metadata": {},
   "outputs": [
    {
     "name": "stdout",
     "output_type": "stream",
     "text": [
      "Model: \"res_net\"\n",
      "_________________________________________________________________\n",
      " Layer (type)                Output Shape              Param #   \n",
      "=================================================================\n",
      " conv2d (Conv2D)             multiple                  3200      \n",
      "                                                                 \n",
      " batch_normalization (BatchN  multiple                 256       \n",
      " ormalization)                                                   \n",
      "                                                                 \n",
      " activation (Activation)     multiple                  0         \n",
      "                                                                 \n",
      " max_pooling2d (MaxPooling2D  multiple                 0         \n",
      " )                                                               \n",
      "                                                                 \n",
      " resnet_block (ResnetBlock)  multiple                  223104    \n",
      "                                                                 \n",
      " resnet_block_1 (ResnetBlock  multiple                 1119360   \n",
      " )                                                               \n",
      "                                                                 \n",
      " resnet_block_2 (ResnetBlock  multiple                 6831360   \n",
      " )                                                               \n",
      "                                                                 \n",
      " resnet_block_3 (ResnetBlock  multiple                 13123072  \n",
      " )                                                               \n",
      "                                                                 \n",
      " global_average_pooling2d (G  multiple                 0         \n",
      " lobalAveragePooling2D)                                          \n",
      "                                                                 \n",
      " dense (Dense)               multiple                  5130      \n",
      "                                                                 \n",
      "=================================================================\n",
      "Total params: 21,305,482\n",
      "Trainable params: 21,290,250\n",
      "Non-trainable params: 15,232\n",
      "_________________________________________________________________\n"
     ]
    }
   ],
   "source": [
    "X = tf.random.uniform(shape=(1, 224, 224, 1))\n",
    "y = my_net(X)\n",
    "my_net.summary()"
   ]
  },
  {
   "cell_type": "code",
   "execution_count": 7,
   "id": "7e3847ea",
   "metadata": {},
   "outputs": [],
   "source": [
    "# 获取手写数字数据集\n",
    "(train_images, train_labels), (test_images, test_labels) = mnist.load_data()\n",
    "\n",
    "# 训练集数据维度的调整：N H W C\n",
    "train_images = np.reshape(train_images, (train_images.shape[0], train_images.shape[1], train_images.shape[2], 1))\n",
    "# 测试集数据维度的调整：N H W C\n",
    "test_images = np.reshape(test_images, (test_images.shape[0], test_images.shape[1], test_images.shape[2], 1))\n"
   ]
  },
  {
   "cell_type": "code",
   "execution_count": 8,
   "id": "236ce6e4",
   "metadata": {},
   "outputs": [],
   "source": [
    "# 定义两个方法随机抽取部分样本演示\n",
    "# 获取训练集数据\n",
    "def get_train(size):\n",
    "    index = np.random.randint(0, np.shape(train_images)[0], size)\n",
    "    resized_images = tf.image.resize_with_pad(train_images[index], 224, 224)\n",
    "    return resized_images.numpy(), train_labels[index]\n",
    "\n",
    "\n",
    "# 获取测试集数据\n",
    "def get_test(size):\n",
    "    index = np.random.randint(0, np.shape(test_images)[0], size)\n",
    "    resized_images = tf.image.resize_with_pad(test_images[index], 224, 224)\n",
    "    return resized_images.numpy(), test_labels[index]"
   ]
  },
  {
   "cell_type": "code",
   "execution_count": 9,
   "id": "d57011e2",
   "metadata": {},
   "outputs": [],
   "source": [
    "# 获取训练样本和测试样本\n",
    "train_images, train_labels = get_train(256)\n",
    "test_images, test_labels = get_test(128)"
   ]
  },
  {
   "cell_type": "code",
   "execution_count": 10,
   "id": "84e5e1c5",
   "metadata": {},
   "outputs": [],
   "source": [
    "# 指定优化器，损失函数和评价指标\n",
    "optimizer = tf.keras.optimizers.SGD(learning_rate=0.01, momentum=0.0)\n",
    "\n",
    "my_net.compile(optimizer=optimizer, loss='sparse_categorical_crossentropy', metrics=['accuracy'])"
   ]
  },
  {
   "cell_type": "code",
   "execution_count": 11,
   "id": "3d103d12",
   "metadata": {},
   "outputs": [
    {
     "name": "stdout",
     "output_type": "stream",
     "text": [
      "Epoch 1/3\n"
     ]
    },
    {
     "name": "stderr",
     "output_type": "stream",
     "text": [
      "2024-08-16 09:50:35.581545: W tensorflow/core/platform/profile_utils/cpu_utils.cc:128] Failed to get CPU frequency: 0 Hz\n"
     ]
    },
    {
     "name": "stdout",
     "output_type": "stream",
     "text": [
      "2/2 [==============================] - 22s 10s/step - loss: 3.4627 - accuracy: 0.0859\n",
      "Epoch 2/3\n",
      "2/2 [==============================] - 19s 10s/step - loss: 2.2342 - accuracy: 0.2188\n",
      "Epoch 3/3\n",
      "2/2 [==============================] - 20s 10s/step - loss: 1.9668 - accuracy: 0.3203\n"
     ]
    },
    {
     "data": {
      "text/plain": [
       "<keras.callbacks.History at 0x16af47af0>"
      ]
     },
     "execution_count": 11,
     "metadata": {},
     "output_type": "execute_result"
    }
   ],
   "source": [
    "# 模型训练：指定训练数据，batchsize,epoch,验证集\n",
    "my_net.fit(train_images, train_labels, batch_size=128, epochs=3, verbose=1, validation_batch_size=0.1)"
   ]
  },
  {
   "cell_type": "code",
   "execution_count": 12,
   "id": "cc14e81e",
   "metadata": {},
   "outputs": [
    {
     "name": "stdout",
     "output_type": "stream",
     "text": [
      "4/4 [==============================] - 3s 640ms/step - loss: 19.4554 - accuracy: 0.0703\n"
     ]
    },
    {
     "data": {
      "text/plain": [
       "[19.455408096313477, 0.0703125]"
      ]
     },
     "execution_count": 12,
     "metadata": {},
     "output_type": "execute_result"
    }
   ],
   "source": [
    "# 指定测试数据\n",
    "my_net.evaluate(test_images, test_labels, verbose=1)"
   ]
  },
  {
   "cell_type": "code",
   "execution_count": null,
   "id": "bc2b4442",
   "metadata": {},
   "outputs": [],
   "source": []
  }
 ],
 "metadata": {
  "kernelspec": {
   "display_name": "tensorflow",
   "language": "python",
   "name": "tensorflow"
  },
  "language_info": {
   "codemirror_mode": {
    "name": "ipython",
    "version": 3
   },
   "file_extension": ".py",
   "mimetype": "text/x-python",
   "name": "python",
   "nbconvert_exporter": "python",
   "pygments_lexer": "ipython3",
   "version": "3.9.19"
  }
 },
 "nbformat": 4,
 "nbformat_minor": 5
}
