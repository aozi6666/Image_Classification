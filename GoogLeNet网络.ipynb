{
 "cells": [
  {
   "cell_type": "code",
   "execution_count": 1,
   "id": "e12fec67",
   "metadata": {},
   "outputs": [],
   "source": [
    "import tensorflow as tf"
   ]
  },
  {
   "cell_type": "markdown",
   "id": "059c9984",
   "metadata": {},
   "source": [
    "# Inception模块"
   ]
  },
  {
   "cell_type": "code",
   "execution_count": 3,
   "id": "0ae50c71",
   "metadata": {},
   "outputs": [
    {
     "data": {
      "text/plain": [
       "<__main__.Inception at 0x175c16070>"
      ]
     },
     "execution_count": 3,
     "metadata": {},
     "output_type": "execute_result"
    }
   ],
   "source": [
    "class Inception(tf.keras.layers.Layer):\n",
    "    # 设置模块的构成\n",
    "    def __init__(self,c1,c2,c3,c4):\n",
    "        super().__init__()\n",
    "        # 线路1:1*1 RELU same c1\n",
    "        self.p1_1 = tf.keras.layers.Conv2D(c1,kernel_size=1,activation=\"relu\",padding =\"same\")\n",
    "        # 线路2:1*1 RELU same c2[0]\n",
    "        self.p2_1 = tf.keras.layers.Conv2D(c2[0],kernel_size=1,activation=\"relu\",padding=\"same\")\n",
    "        # 线路2:3*3 RELU same c2[1]\n",
    "        self.p2_2 = tf.keras.layers.Conv2D(c2[1],kernel_size=3,activation=\"relu\",padding='same')\n",
    "        # 线路3:1*1 RELU same c3[0]\n",
    "        self.p3_1 = tf.keras.layers.Conv2D(c3[0],kernel_size=1,activation=\"relu\",padding=\"same\")\n",
    "        # 线路3:5*5 RELU same c3[1]\n",
    "        self.p3_2 = tf.keras.layers.Conv2D(c3[1],kernel_size=5,activation=\"relu\",padding='same')\n",
    "        # 线路4: max-pool \n",
    "        self.p4_1 = tf.keras.layers.MaxPool2D(pool_size=3,padding=\"same\",strides=1)\n",
    "        # 线路4:1*1\n",
    "        self.p4_2 = tf.keras.layers.Conv2D(c4,kernel_size=1,activation=\"relu\",padding=\"same\")\n",
    "    # 前行传播过程\n",
    "    def call(self,x):\n",
    "        # 线路1\n",
    "        p1 = self.p1_1(x)\n",
    "        # 线路2\n",
    "        p2 = self.p2_2(self.p2_1(x))\n",
    "        # 线路3\n",
    "        p3 = self.p3_2(self.p3_1(x))\n",
    "        # 线路4\n",
    "        p4 = self.p4_2(self.p4_1(x))\n",
    "        # concat\n",
    "        outputs = tf.concat([p1,p2,p3,p4],axis=-1)\n",
    "        return outputs\n",
    "Inception(64,(96,128),(16,32),32)\n",
    "    "
   ]
  },
  {
   "cell_type": "markdown",
   "id": "7e9abdd1",
   "metadata": {},
   "source": [
    "# GoogLeNet构建"
   ]
  },
  {
   "cell_type": "markdown",
   "id": "072b88f7",
   "metadata": {},
   "source": [
    "## B1模块"
   ]
  },
  {
   "cell_type": "code",
   "execution_count": 4,
   "id": "9d5cb2a5",
   "metadata": {},
   "outputs": [],
   "source": [
    "inputs = tf.keras.Input(shape=(224,224,1),name=\"input\")\n",
    "# 卷积:7*7 64 \n",
    "x = tf.keras.layers.Conv2D(64,kernel_size=7,strides = 2,padding=\"same\",activation=\"relu\")(inputs)\n",
    "# 池化层\n",
    "x = tf.keras.layers.MaxPool2D(pool_size=3,strides=2,padding=\"same\")(x)"
   ]
  },
  {
   "cell_type": "code",
   "execution_count": 5,
   "id": "dec759c4",
   "metadata": {},
   "outputs": [],
   "source": [
    "## B2模块\n",
    "# 卷积层:1*1\n",
    "x = tf.keras.layers.Conv2D(64,kernel_size = 1,padding='same',activation=\"relu\")(x)\n",
    "# 卷积:3*3\n",
    "x = tf.keras.layers.Conv2D(192,kernel_size=3,padding='same',activation='relu')(x)\n",
    "# 池化层\n",
    "x = tf.keras.layers.MaxPool2D(pool_size=3,strides=2,padding=\"same\")(x)"
   ]
  },
  {
   "cell_type": "code",
   "execution_count": 6,
   "id": "cfcf535c",
   "metadata": {},
   "outputs": [],
   "source": [
    "## B3模块\n",
    "# inception\n",
    "x = Inception(64,(96,128),(16,32),32)(x)\n",
    "# inception\n",
    "x = Inception(128,(128,192),(32,96),64)(x)\n",
    "# 池化\n",
    "x = tf.keras.layers.MaxPool2D(pool_size=3,strides=2,padding=\"same\")(x)"
   ]
  },
  {
   "cell_type": "code",
   "execution_count": 7,
   "id": "6205d742",
   "metadata": {},
   "outputs": [],
   "source": [
    "# B4模块\n",
    "# 辅助分类器\n",
    "def aux_classifier(x,filter_size):\n",
    "    # 池化层\n",
    "    x = tf.keras.layers.AveragePooling2D(pool_size=5,strides = 3,padding='same')(x)\n",
    "    # 卷积层\n",
    "    x = tf.keras.layers.Conv2D(filters = filter_size[0],kernel_size=1,strides=1,padding =\"valid\",activation=\"relu\")(x)\n",
    "    # 展评\n",
    "    x = tf.keras.layers.Flatten()(x)\n",
    "    # 全连接\n",
    "    x = tf.keras.layers.Dense(units = filter_size[1],activation=\"relu\")(x)\n",
    "    # 输出层:\n",
    "    x = tf.keras.layers.Dense(units=10,activation=\"softmax\")(x)\n",
    "    return x"
   ]
  },
  {
   "cell_type": "code",
   "execution_count": 8,
   "id": "442a3fb5",
   "metadata": {},
   "outputs": [],
   "source": [
    "# Inception\n",
    "x = Inception(192,(96,208),(16,48),64)(x)\n",
    "# 辅助输出\n",
    "aux_output1 = aux_classifier(x,[128,1024])\n",
    "# Inception\n",
    "x = Inception(160,(112,224),(24,64),64)(x)\n",
    "# Inception\n",
    "x = Inception(128,(128,256),(24,64),64)(x)\n",
    "# Inception\n",
    "x = Inception(112,(144,288),(32,64),64)(x)\n",
    "# 辅助输出2\n",
    "aux_output2 = aux_classifier(x,[128,1024])\n",
    "# Inception\n",
    "x =Inception(256,(160,320),(32,128),128)(x)\n",
    "# 最大池化\n",
    "x = tf.keras.layers.MaxPool2D(pool_size=3,strides=2,padding='same')(x)"
   ]
  },
  {
   "cell_type": "code",
   "execution_count": 9,
   "id": "a83d73ab",
   "metadata": {},
   "outputs": [],
   "source": [
    "# B5模块\n",
    "# inception\n",
    "x = Inception(256,(160,320),(32,128),128)(x)\n",
    "x = Inception(384,(192,384),(48,128),128)(x)\n",
    "# GAP\n",
    "x = tf.keras.layers.GlobalAvgPool2D()(x)\n",
    "# 输出层\n",
    "output = tf.keras.layers.Dense(10,activation=\"softmax\")(x)"
   ]
  },
  {
   "cell_type": "code",
   "execution_count": 10,
   "id": "1570abbb",
   "metadata": {},
   "outputs": [
    {
     "name": "stdout",
     "output_type": "stream",
     "text": [
      "Model: \"model\"\n",
      "__________________________________________________________________________________________________\n",
      " Layer (type)                   Output Shape         Param #     Connected to                     \n",
      "==================================================================================================\n",
      " input (InputLayer)             [(None, 224, 224, 1  0           []                               \n",
      "                                )]                                                                \n",
      "                                                                                                  \n",
      " conv2d_6 (Conv2D)              (None, 112, 112, 64  3200        ['input[0][0]']                  \n",
      "                                )                                                                 \n",
      "                                                                                                  \n",
      " max_pooling2d_1 (MaxPooling2D)  (None, 56, 56, 64)  0           ['conv2d_6[0][0]']               \n",
      "                                                                                                  \n",
      " conv2d_7 (Conv2D)              (None, 56, 56, 64)   4160        ['max_pooling2d_1[0][0]']        \n",
      "                                                                                                  \n",
      " conv2d_8 (Conv2D)              (None, 56, 56, 192)  110784      ['conv2d_7[0][0]']               \n",
      "                                                                                                  \n",
      " max_pooling2d_2 (MaxPooling2D)  (None, 28, 28, 192)  0          ['conv2d_8[0][0]']               \n",
      "                                                                                                  \n",
      " inception_1 (Inception)        (None, 28, 28, 256)  163696      ['max_pooling2d_2[0][0]']        \n",
      "                                                                                                  \n",
      " inception_2 (Inception)        (None, 28, 28, 480)  388736      ['inception_1[0][0]']            \n",
      "                                                                                                  \n",
      " max_pooling2d_5 (MaxPooling2D)  (None, 14, 14, 480)  0          ['inception_2[0][0]']            \n",
      "                                                                                                  \n",
      " inception_3 (Inception)        (None, 14, 14, 512)  376176      ['max_pooling2d_5[0][0]']        \n",
      "                                                                                                  \n",
      " inception_4 (Inception)        (None, 14, 14, 512)  449160      ['inception_3[0][0]']            \n",
      "                                                                                                  \n",
      " inception_5 (Inception)        (None, 14, 14, 512)  510104      ['inception_4[0][0]']            \n",
      "                                                                                                  \n",
      " inception_6 (Inception)        (None, 14, 14, 528)  605376      ['inception_5[0][0]']            \n",
      "                                                                                                  \n",
      " inception_7 (Inception)        (None, 14, 14, 832)  868352      ['inception_6[0][0]']            \n",
      "                                                                                                  \n",
      " max_pooling2d_11 (MaxPooling2D  (None, 7, 7, 832)   0           ['inception_7[0][0]']            \n",
      " )                                                                                                \n",
      "                                                                                                  \n",
      " average_pooling2d (AveragePool  (None, 5, 5, 512)   0           ['inception_3[0][0]']            \n",
      " ing2D)                                                                                           \n",
      "                                                                                                  \n",
      " average_pooling2d_1 (AveragePo  (None, 5, 5, 528)   0           ['inception_6[0][0]']            \n",
      " oling2D)                                                                                         \n",
      "                                                                                                  \n",
      " inception_8 (Inception)        (None, 7, 7, 832)    1043456     ['max_pooling2d_11[0][0]']       \n",
      "                                                                                                  \n",
      " conv2d_27 (Conv2D)             (None, 5, 5, 128)    65664       ['average_pooling2d[0][0]']      \n",
      "                                                                                                  \n",
      " conv2d_46 (Conv2D)             (None, 5, 5, 128)    67712       ['average_pooling2d_1[0][0]']    \n",
      "                                                                                                  \n",
      " inception_9 (Inception)        (None, 7, 7, 1024)   1444080     ['inception_8[0][0]']            \n",
      "                                                                                                  \n",
      " flatten (Flatten)              (None, 3200)         0           ['conv2d_27[0][0]']              \n",
      "                                                                                                  \n",
      " flatten_1 (Flatten)            (None, 3200)         0           ['conv2d_46[0][0]']              \n",
      "                                                                                                  \n",
      " global_average_pooling2d (Glob  (None, 1024)        0           ['inception_9[0][0]']            \n",
      " alAveragePooling2D)                                                                              \n",
      "                                                                                                  \n",
      " dense (Dense)                  (None, 1024)         3277824     ['flatten[0][0]']                \n",
      "                                                                                                  \n",
      " dense_2 (Dense)                (None, 1024)         3277824     ['flatten_1[0][0]']              \n",
      "                                                                                                  \n",
      " dense_4 (Dense)                (None, 10)           10250       ['global_average_pooling2d[0][0]'\n",
      "                                                                 ]                                \n",
      "                                                                                                  \n",
      " dense_1 (Dense)                (None, 10)           10250       ['dense[0][0]']                  \n",
      "                                                                                                  \n",
      " dense_3 (Dense)                (None, 10)           10250       ['dense_2[0][0]']                \n",
      "                                                                                                  \n",
      "==================================================================================================\n",
      "Total params: 12,687,054\n",
      "Trainable params: 12,687,054\n",
      "Non-trainable params: 0\n",
      "__________________________________________________________________________________________________\n"
     ]
    }
   ],
   "source": [
    "# 模型\n",
    "model = tf.keras.Model(inputs=inputs,outputs=[output,aux_output1,aux_output2])\n",
    "model.summary()"
   ]
  },
  {
   "cell_type": "code",
   "execution_count": 11,
   "id": "fee23310",
   "metadata": {},
   "outputs": [],
   "source": [
    "import numpy as np\n",
    "from tensorflow.keras.datasets import mnist\n",
    "# 获取手写数字数据集\n",
    "(train_images, train_labels), (test_images, test_labels) = mnist.load_data()\n",
    "# 训练集数据维度的调整：N H W C\n",
    "train_images = np.reshape(train_images,(train_images.shape[0],train_images.shape[1],train_images.shape[2],1))\n",
    "# 测试集数据维度的调整：N H W C\n",
    "test_images = np.reshape(test_images,(test_images.shape[0],test_images.shape[1],test_images.shape[2],1))"
   ]
  },
  {
   "cell_type": "code",
   "execution_count": 12,
   "id": "c7e22eb5",
   "metadata": {},
   "outputs": [],
   "source": [
    "# 定义两个方法随机抽取部分样本演示\n",
    "# 获取训练集数据\n",
    "def get_train(size):\n",
    "    # 随机生成要抽样的样本的索引\n",
    "    index = np.random.randint(0, np.shape(train_images)[0], size)\n",
    "    # 将这些数据resize成22*227大小\n",
    "    resized_images = tf.image.resize_with_pad(train_images[index],224,224,)\n",
    "    # 返回抽取的\n",
    "    return resized_images.numpy(), train_labels[index]\n",
    "# 获取测试集数据 \n",
    "def get_test(size):\n",
    "    # 随机生成要抽样的样本的索引\n",
    "    index = np.random.randint(0, np.shape(test_images)[0], size)\n",
    "    # 将这些数据resize成224*224大小\n",
    "    resized_images = tf.image.resize_with_pad(test_images[index],224,224,)\n",
    "    # 返回抽样的测试样本\n",
    "    return resized_images.numpy(), test_labels[index]"
   ]
  },
  {
   "cell_type": "code",
   "execution_count": 13,
   "id": "7e64c2b7",
   "metadata": {},
   "outputs": [],
   "source": [
    "# 获取训练样本和测试样本\n",
    "train_images,train_labels = get_train(256)\n",
    "test_images,test_labels = get_test(128)"
   ]
  },
  {
   "cell_type": "code",
   "execution_count": 14,
   "id": "0543337c",
   "metadata": {},
   "outputs": [],
   "source": [
    "# 指定优化器，损失函数和评价指标\n",
    "optimizer = tf.keras.optimizers.SGD(learning_rate=0.01, momentum=0.0)\n",
    "# 模型有3个输出，所以指定损失函数对应的权重系数\n",
    "model.compile(optimizer=optimizer,\n",
    "              loss='sparse_categorical_crossentropy',\n",
    "              metrics=['accuracy'],loss_weights=[1,0.3,0.3])"
   ]
  },
  {
   "cell_type": "code",
   "execution_count": 15,
   "id": "449a0d9e",
   "metadata": {},
   "outputs": [
    {
     "name": "stdout",
     "output_type": "stream",
     "text": [
      "Epoch 1/3\n"
     ]
    },
    {
     "name": "stderr",
     "output_type": "stream",
     "text": [
      "2025-03-19 11:29:04.687357: W tensorflow/core/platform/profile_utils/cpu_utils.cc:128] Failed to get CPU frequency: 0 Hz\n"
     ]
    },
    {
     "name": "stdout",
     "output_type": "stream",
     "text": [
      "2/2 [==============================] - 12s 5s/step - loss: 4.7903 - dense_4_loss: 2.3758 - dense_1_loss: 5.1112 - dense_3_loss: 2.9370 - dense_4_accuracy: 0.0435 - dense_1_accuracy: 0.1087 - dense_3_accuracy: 0.1130 - val_loss: 3.9817 - val_dense_4_loss: 2.3280 - val_dense_1_loss: 3.1630 - val_dense_3_loss: 2.3492 - val_dense_4_accuracy: 0.0000e+00 - val_dense_1_accuracy: 0.0000e+00 - val_dense_3_accuracy: 0.1154\n",
      "Epoch 2/3\n",
      "2/2 [==============================] - 9s 4s/step - loss: 3.7515 - dense_4_loss: 2.2868 - dense_1_loss: 2.5689 - dense_3_loss: 2.3133 - dense_4_accuracy: 0.1478 - dense_1_accuracy: 0.1391 - dense_3_accuracy: 0.1478 - val_loss: 3.7402 - val_dense_4_loss: 2.3265 - val_dense_1_loss: 2.3736 - val_dense_3_loss: 2.3386 - val_dense_4_accuracy: 0.0000e+00 - val_dense_1_accuracy: 0.1538 - val_dense_3_accuracy: 0.0000e+00\n",
      "Epoch 3/3\n",
      "2/2 [==============================] - 9s 4s/step - loss: 3.6545 - dense_4_loss: 2.2886 - dense_1_loss: 2.2654 - dense_3_loss: 2.2876 - dense_4_accuracy: 0.1478 - dense_1_accuracy: 0.1478 - dense_3_accuracy: 0.1478 - val_loss: 3.7672 - val_dense_4_loss: 2.3356 - val_dense_1_loss: 2.4281 - val_dense_3_loss: 2.3437 - val_dense_4_accuracy: 0.0000e+00 - val_dense_1_accuracy: 0.0385 - val_dense_3_accuracy: 0.0000e+00\n"
     ]
    },
    {
     "data": {
      "text/plain": [
       "<keras.callbacks.History at 0x1772334f0>"
      ]
     },
     "execution_count": 15,
     "metadata": {},
     "output_type": "execute_result"
    }
   ],
   "source": [
    "# 模型训练：指定训练数据，batchsize,epoch,验证集\n",
    "model.fit(train_images,train_labels,batch_size=128,epochs=3,verbose=1,validation_split=0.1)"
   ]
  },
  {
   "cell_type": "code",
   "execution_count": 16,
   "id": "f726998a",
   "metadata": {},
   "outputs": [
    {
     "name": "stdout",
     "output_type": "stream",
     "text": [
      "4/4 [==============================] - 1s 364ms/step - loss: 3.6776 - dense_4_loss: 2.2975 - dense_1_loss: 2.3029 - dense_3_loss: 2.2973 - dense_4_accuracy: 0.0781 - dense_1_accuracy: 0.2031 - dense_3_accuracy: 0.0781\n"
     ]
    },
    {
     "data": {
      "text/plain": [
       "[3.6775708198547363,\n",
       " 2.2975220680236816,\n",
       " 2.302894115447998,\n",
       " 2.2972681522369385,\n",
       " 0.078125,\n",
       " 0.203125,\n",
       " 0.078125]"
      ]
     },
     "execution_count": 16,
     "metadata": {},
     "output_type": "execute_result"
    }
   ],
   "source": [
    "# 指定测试数据\n",
    "model.evaluate(test_images,test_labels,verbose=1)"
   ]
  },
  {
   "cell_type": "code",
   "execution_count": null,
   "id": "21d1e115",
   "metadata": {},
   "outputs": [],
   "source": []
  }
 ],
 "metadata": {
  "kernelspec": {
   "display_name": "tensorflow",
   "language": "python",
   "name": "python3"
  },
  "language_info": {
   "codemirror_mode": {
    "name": "ipython",
    "version": 3
   },
   "file_extension": ".py",
   "mimetype": "text/x-python",
   "name": "python",
   "nbconvert_exporter": "python",
   "pygments_lexer": "ipython3",
   "version": "3.9.20"
  }
 },
 "nbformat": 4,
 "nbformat_minor": 5
}
