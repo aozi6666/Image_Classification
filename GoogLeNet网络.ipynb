{
 "cells": [
  {
   "cell_type": "code",
   "execution_count": 1,
   "id": "e015cb52",
   "metadata": {},
   "outputs": [],
   "source": [
    "import tensorflow as tf\n",
    "import numpy as np\n",
    "import pandas as pd\n",
    "from tensorflow.keras.datasets import mnist"
   ]
  },
  {
   "cell_type": "code",
   "execution_count": 2,
   "id": "da271850",
   "metadata": {},
   "outputs": [],
   "source": [
    "# 定义 Inception 模型\n",
    "class Inception(tf.keras.layers.Layer):\n",
    "    # 输入参数为各个卷积核个数\n",
    "    def __init__(self, c1, c2, c3, c4):\n",
    "        super().__init__()  # 构造函数，初始化 Inception 层的参数\n",
    "        # 线路1: 1 x 1卷积层，激活函数是RELU，padding是same\n",
    "        self.p1_1 = tf.keras.layers.Conv2D(c1, kernel_size=1, activation='relu', padding='same')\n",
    "        \n",
    "        # 线路2: 1 x 1卷积层后接3 x 3卷积层,激活函数是RELU，padding是same\n",
    "        self.p2_1 = tf.keras.layers.Conv2D(c2[0], kernel_size=1, padding='same', activation='relu')\n",
    "        self.p2_2 = tf.keras.layers.Conv2D(c2[1], kernel_size=3, padding='same', activation='relu')\n",
    "        \n",
    "        # 线路3: 1 x 1卷积层后接5 x 5卷积层,激活函数是RELU，padding是same\n",
    "        self.p3_1 = tf.keras.layers.Conv2D(c3[0], kernel_size=1, padding='same', activation='relu')\n",
    "        self.p3_2 = tf.keras.layers.Conv2D(c3[1], kernel_size=5, padding='same', activation='relu')\n",
    "        \n",
    "        # 线路4，3 x 3最大池化层后接1 x 1卷积层,激活函数是RELU，padding是same\n",
    "        self.p4_1 = tf.keras.layers.MaxPool2D(pool_size=3, padding='same', strides=1)\n",
    "        self.p4_2 = tf.keras.layers.Conv2D(c4, kernel_size=1, padding='same', activation='relu')\n",
    "        \n",
    "    # 完成前向传播过程\n",
    "    def call(self, x):\n",
    "        p1 = self.p1_1(x)             # 线路1\n",
    "        p2 = self.p2_2(self.p2_1(x))  # 线路2\n",
    "        p3 = self.p3_2(self.p3_1(x))  # 线路3\n",
    "        p4 = self.p4_2(self.p4_1(x))  # 线路4\n",
    "        outputs = tf.concat([p1, p2, p3, p4], axis=-1)\n",
    "        return outputs"
   ]
  },
  {
   "cell_type": "code",
   "execution_count": 3,
   "id": "0943b823",
   "metadata": {},
   "outputs": [],
   "source": [
    "# 辅助分类器\n",
    "def aux_classifier(x, filter_size):\n",
    "    # x:输入数据，filter_size:卷积层卷积核个数，全连接层神经元个数\n",
    "    # 池化层\n",
    "    x = tf.keras.layers.AveragePooling2D(pool_size=5, strides=3, padding='same')(x)\n",
    "    \n",
    "    # 1x1 卷积层\n",
    "    x = tf.keras.layers.Conv2D(filters=filter_size[0], kernel_size=1, strides=1, padding='valid', activation='relu')(x)\n",
    "    \n",
    "    # 展平\n",
    "    x = tf.keras.layers.Flatten()(x)\n",
    "    \n",
    "    # 全连接层1\n",
    "    x = tf.keras.layers.Dense(units=filter_size[1], activation='relu')(x)\n",
    "    \n",
    "    # 全连接层2  --softmax输出层\n",
    "    x = tf.keras.layers.Dense(units=10, activation='softmax')(x)\n",
    "    return x"
   ]
  },
  {
   "cell_type": "code",
   "execution_count": 4,
   "id": "3b2d1dc8",
   "metadata": {},
   "outputs": [
    {
     "data": {
      "text/plain": [
       "<__main__.Inception at 0x1605708b0>"
      ]
     },
     "execution_count": 4,
     "metadata": {},
     "output_type": "execute_result"
    }
   ],
   "source": [
    "# 实例化\n",
    "Inception(64, (96, 128), (16, 32), 32)"
   ]
  },
  {
   "cell_type": "code",
   "execution_count": 5,
   "id": "4453fcf0",
   "metadata": {},
   "outputs": [],
   "source": [
    "# 定义模型的输入\n",
    "inputs = tf.keras.Input(shape=(224, 224, 3), name='input')"
   ]
  },
  {
   "cell_type": "code",
   "execution_count": 6,
   "id": "77205802",
   "metadata": {},
   "outputs": [],
   "source": [
    "# B1 模块\n",
    "# 卷积层7*7的卷积核，步长为2，pad是same，激活函数RELU\n",
    "x = tf.keras.layers.Conv2D(64, kernel_size=7, padding='valid', activation='relu')(inputs)\n",
    "# 最大池化：窗口大小为3*3，步长为2，pad是same\n",
    "x = tf.keras.layers.MaxPool2D(pool_size=3, strides=2, padding='same')(x)"
   ]
  },
  {
   "cell_type": "code",
   "execution_count": 7,
   "id": "13b1d641",
   "metadata": {},
   "outputs": [],
   "source": [
    "# B2 模块\n",
    "# 卷积层1*1的卷积核，步长为2，pad是same，激活函数RELU\n",
    "x = tf.keras.layers.Conv2D(64, kernel_size=1, padding='same', activation='relu')(x)\n",
    "# 卷积层3*3的卷积核，步长为2，pad是same，激活函数RELU\n",
    "x = tf.keras.layers.Conv2D(192, kernel_size=3, padding='same', activation='relu')(x)\n",
    "# 最大池化：窗口大小为3*3，步长为2，pad是same\n",
    "x = tf.keras.layers.MaxPool2D(pool_size=3, strides=2, padding='same')(x)"
   ]
  },
  {
   "cell_type": "code",
   "execution_count": 8,
   "id": "d8be199a",
   "metadata": {},
   "outputs": [],
   "source": [
    "# B3 模块\n",
    "# Inception(3a)\n",
    "x = Inception(64, (96, 128), (16, 32), 32)(x)\n",
    "\n",
    "# Inception(3b)\n",
    "x = Inception(128, (128, 192), (32, 96), 64)(x)\n",
    "\n",
    "# 最大池化：窗口大小为3*3，步长为2，pad是same\n",
    "x = tf.keras.layers.MaxPool2D(pool_size=3, strides=2, padding='same')(x)"
   ]
  },
  {
   "cell_type": "code",
   "execution_count": 9,
   "id": "fdddb00f",
   "metadata": {},
   "outputs": [],
   "source": [
    "# B4 模块\n",
    "# Inception(4a)\n",
    "x = Inception(192, (96, 208), (16, 48), 64)(x)\n",
    "# 辅助输出1\n",
    "aux_output_1 = aux_classifier(x, [128, 1024])\n",
    "\n",
    "# Inception(4b)\n",
    "x = Inception(160, (112, 224), (24, 64), 64)(x)\n",
    "\n",
    "# Inception(4c)\n",
    "x = Inception(128, (128, 256), (24, 64), 64)(x)\n",
    "\n",
    "# Inception(4d)\n",
    "x = Inception(112, (144, 288), (32, 64), 64)(x)\n",
    "# 辅助输出2\n",
    "aux_output_2 = aux_classifier(x, [128, 1024])\n",
    "\n",
    "# Inception(4e)\n",
    "x = Inception(256, (160, 320), (32, 128), 128)(x)\n",
    "\n",
    "# 最大池化：窗口大小为3*3，步长为2，pad是same\n",
    "x = tf.keras.layers.MaxPool2D(pool_size=3, strides=2, padding='same')(x)"
   ]
  },
  {
   "cell_type": "code",
   "execution_count": 10,
   "id": "0560258c",
   "metadata": {},
   "outputs": [],
   "source": [
    "# B5模块\n",
    "# Inception(5a)\n",
    "x = Inception(256, (160, 320), (32, 128), 128)(x)\n",
    "\n",
    "# Inception(5b)\n",
    "x = Inception(384, (192, 384), (48, 128), 128)(x)\n",
    "\n",
    "# GAP\n",
    "x = tf.keras.layers.GlobalAvgPool2D()(x)"
   ]
  },
  {
   "cell_type": "code",
   "execution_count": 11,
   "id": "669beb7a",
   "metadata": {},
   "outputs": [],
   "source": [
    "# 输出层\n",
    "main_outputs = tf.keras.layers.Dense(10, activation='softmax')(x)"
   ]
  },
  {
   "cell_type": "code",
   "execution_count": 12,
   "id": "be72e2a6",
   "metadata": {},
   "outputs": [
    {
     "name": "stdout",
     "output_type": "stream",
     "text": [
      "Model: \"model\"\n",
      "__________________________________________________________________________________________________\n",
      " Layer (type)                   Output Shape         Param #     Connected to                     \n",
      "==================================================================================================\n",
      " input (InputLayer)             [(None, 224, 224, 3  0           []                               \n",
      "                                )]                                                                \n",
      "                                                                                                  \n",
      " conv2d_6 (Conv2D)              (None, 218, 218, 64  9472        ['input[0][0]']                  \n",
      "                                )                                                                 \n",
      "                                                                                                  \n",
      " max_pooling2d_1 (MaxPooling2D)  (None, 109, 109, 64  0          ['conv2d_6[0][0]']               \n",
      "                                )                                                                 \n",
      "                                                                                                  \n",
      " conv2d_7 (Conv2D)              (None, 109, 109, 64  4160        ['max_pooling2d_1[0][0]']        \n",
      "                                )                                                                 \n",
      "                                                                                                  \n",
      " conv2d_8 (Conv2D)              (None, 109, 109, 19  110784      ['conv2d_7[0][0]']               \n",
      "                                2)                                                                \n",
      "                                                                                                  \n",
      " max_pooling2d_2 (MaxPooling2D)  (None, 55, 55, 192)  0          ['conv2d_8[0][0]']               \n",
      "                                                                                                  \n",
      " inception_1 (Inception)        (None, 55, 55, 256)  163696      ['max_pooling2d_2[0][0]']        \n",
      "                                                                                                  \n",
      " inception_2 (Inception)        (None, 55, 55, 480)  388736      ['inception_1[0][0]']            \n",
      "                                                                                                  \n",
      " max_pooling2d_5 (MaxPooling2D)  (None, 28, 28, 480)  0          ['inception_2[0][0]']            \n",
      "                                                                                                  \n",
      " inception_3 (Inception)        (None, 28, 28, 512)  376176      ['max_pooling2d_5[0][0]']        \n",
      "                                                                                                  \n",
      " inception_4 (Inception)        (None, 28, 28, 512)  449160      ['inception_3[0][0]']            \n",
      "                                                                                                  \n",
      " inception_5 (Inception)        (None, 28, 28, 512)  510104      ['inception_4[0][0]']            \n",
      "                                                                                                  \n",
      " inception_6 (Inception)        (None, 28, 28, 528)  605376      ['inception_5[0][0]']            \n",
      "                                                                                                  \n",
      " inception_7 (Inception)        (None, 28, 28, 832)  868352      ['inception_6[0][0]']            \n",
      "                                                                                                  \n",
      " max_pooling2d_11 (MaxPooling2D  (None, 14, 14, 832)  0          ['inception_7[0][0]']            \n",
      " )                                                                                                \n",
      "                                                                                                  \n",
      " average_pooling2d (AveragePool  (None, 10, 10, 512)  0          ['inception_3[0][0]']            \n",
      " ing2D)                                                                                           \n",
      "                                                                                                  \n",
      " average_pooling2d_1 (AveragePo  (None, 10, 10, 528)  0          ['inception_6[0][0]']            \n",
      " oling2D)                                                                                         \n",
      "                                                                                                  \n",
      " inception_8 (Inception)        (None, 14, 14, 832)  1043456     ['max_pooling2d_11[0][0]']       \n",
      "                                                                                                  \n",
      " conv2d_27 (Conv2D)             (None, 10, 10, 128)  65664       ['average_pooling2d[0][0]']      \n",
      "                                                                                                  \n",
      " conv2d_46 (Conv2D)             (None, 10, 10, 128)  67712       ['average_pooling2d_1[0][0]']    \n",
      "                                                                                                  \n",
      " inception_9 (Inception)        (None, 14, 14, 1024  1444080     ['inception_8[0][0]']            \n",
      "                                )                                                                 \n",
      "                                                                                                  \n",
      " flatten (Flatten)              (None, 12800)        0           ['conv2d_27[0][0]']              \n",
      "                                                                                                  \n",
      " flatten_1 (Flatten)            (None, 12800)        0           ['conv2d_46[0][0]']              \n",
      "                                                                                                  \n",
      " global_average_pooling2d (Glob  (None, 1024)        0           ['inception_9[0][0]']            \n",
      " alAveragePooling2D)                                                                              \n",
      "                                                                                                  \n",
      " dense (Dense)                  (None, 1024)         13108224    ['flatten[0][0]']                \n",
      "                                                                                                  \n",
      " dense_2 (Dense)                (None, 1024)         13108224    ['flatten_1[0][0]']              \n",
      "                                                                                                  \n",
      " dense_4 (Dense)                (None, 10)           10250       ['global_average_pooling2d[0][0]'\n",
      "                                                                 ]                                \n",
      "                                                                                                  \n",
      " dense_1 (Dense)                (None, 10)           10250       ['dense[0][0]']                  \n",
      "                                                                                                  \n",
      " dense_3 (Dense)                (None, 10)           10250       ['dense_2[0][0]']                \n",
      "                                                                                                  \n",
      "==================================================================================================\n",
      "Total params: 32,354,126\n",
      "Trainable params: 32,354,126\n",
      "Non-trainable params: 0\n",
      "__________________________________________________________________________________________________\n"
     ]
    }
   ],
   "source": [
    "# 使用 Model来创建模型，指明输入和输出\n",
    "model = tf.keras.Model(inputs=inputs, outputs=[main_outputs, aux_output_1, aux_output_2])\n",
    "model.summary()"
   ]
  },
  {
   "cell_type": "markdown",
   "id": "e4d9a12c",
   "metadata": {},
   "source": [
    "# # 读取数据"
   ]
  },
  {
   "cell_type": "code",
   "execution_count": 13,
   "id": "09fe7f3e",
   "metadata": {},
   "outputs": [],
   "source": [
    "# 获取手写数字数据集\n",
    "(train_images, train_labels), (test_images, test_labels) = mnist.load_data()"
   ]
  },
  {
   "cell_type": "code",
   "execution_count": 15,
   "id": "8877cc1f",
   "metadata": {},
   "outputs": [],
   "source": [
    "# 训练集数据维度的调整：N H W C\n",
    "train_images = np.reshape(train_images, (train_images.shape[0], train_images.shape[1], train_images.shape[2], 1))\n",
    "# 测试集数据维度的调整：N H W C\n",
    "test_images = np.reshape(test_images, (test_images.shape[0], test_images.shape[1], test_images.shape[2], 1))"
   ]
  },
  {
   "cell_type": "markdown",
   "id": "b15d4b35",
   "metadata": {},
   "source": [
    "# #定义两个方法随机抽取部分样本演示"
   ]
  },
  {
   "cell_type": "code",
   "execution_count": 16,
   "id": "84f072fc",
   "metadata": {},
   "outputs": [],
   "source": [
    "# 获取训练集数据\n",
    "def get_train(size):\n",
    "    index = np.random.randint(0, np.shape(train_images)[0], size)\n",
    "    resized_images = tf.image.resize_with_pad(train_images[index], 224, 224)\n",
    "    return resized_images.numpy(), train_labels[index]"
   ]
  },
  {
   "cell_type": "code",
   "execution_count": 17,
   "id": "f3657957",
   "metadata": {},
   "outputs": [],
   "source": [
    "# 获取测试集数据\n",
    "def get_test(size):\n",
    "    index = np.random.randint(0, np.shape(test_images)[0], size)\n",
    "    resized_images = tf.image.resize_with_pad(test_images[index], 224, 224)\n",
    "    return resized_images.numpy(), test_labels[index]"
   ]
  },
  {
   "cell_type": "code",
   "execution_count": 18,
   "id": "42d1aa7e",
   "metadata": {},
   "outputs": [],
   "source": [
    "# 获取训练样本和测试样本\n",
    "train_images, train_labels = get_train(256)\n",
    "test_images, test_labels = get_test(128)"
   ]
  },
  {
   "cell_type": "markdown",
   "id": "0b90ea80",
   "metadata": {},
   "source": [
    "# # 模型编译"
   ]
  },
  {
   "cell_type": "code",
   "execution_count": 19,
   "id": "e2e73981",
   "metadata": {},
   "outputs": [
    {
     "ename": "NameError",
     "evalue": "name 'net' is not defined",
     "output_type": "error",
     "traceback": [
      "\u001b[0;31m---------------------------------------------------------------------------\u001b[0m",
      "\u001b[0;31mNameError\u001b[0m                                 Traceback (most recent call last)",
      "Cell \u001b[0;32mIn[19], line 4\u001b[0m\n\u001b[1;32m      2\u001b[0m optimizer \u001b[38;5;241m=\u001b[39m tf\u001b[38;5;241m.\u001b[39mkeras\u001b[38;5;241m.\u001b[39moptimizers\u001b[38;5;241m.\u001b[39mSGD(learning_rate\u001b[38;5;241m=\u001b[39m\u001b[38;5;241m0.01\u001b[39m, momentum\u001b[38;5;241m=\u001b[39m\u001b[38;5;241m0.0\u001b[39m)\n\u001b[1;32m      3\u001b[0m \u001b[38;5;66;03m# 模型有3个输出，所以指定损失函数对应的权重系数\u001b[39;00m\n\u001b[0;32m----> 4\u001b[0m \u001b[43mnet\u001b[49m\u001b[38;5;241m.\u001b[39mcompile(optimizer\u001b[38;5;241m=\u001b[39moptimizer, loss\u001b[38;5;241m=\u001b[39m\u001b[38;5;124m'\u001b[39m\u001b[38;5;124msparse_categorical_crossentropy\u001b[39m\u001b[38;5;124m'\u001b[39m, metrics\u001b[38;5;241m=\u001b[39m[\u001b[38;5;124m'\u001b[39m\u001b[38;5;124maccuracy\u001b[39m\u001b[38;5;124m'\u001b[39m], loss_weight\u001b[38;5;241m=\u001b[39m[\u001b[38;5;241m1\u001b[39m, \u001b[38;5;241m0.3\u001b[39m, \u001b[38;5;241m0.3\u001b[39m])\n",
      "\u001b[0;31mNameError\u001b[0m: name 'net' is not defined"
     ]
    }
   ],
   "source": [
    "# 指定优化器，损失函数和评价指标\n",
    "optimizer = tf.keras.optimizers.SGD(learning_rate=0.01, momentum=0.0)\n",
    "# 模型有3个输出，所以指定损失函数对应的权重系数\n",
    "net.compile(optimizer=optimizer, loss='sparse_categorical_crossentropy', metrics=['accuracy'], loss_weight=[1, 0.3, 0.3])"
   ]
  },
  {
   "cell_type": "markdown",
   "id": "018476e8",
   "metadata": {},
   "source": [
    "# #模型训练"
   ]
  },
  {
   "cell_type": "code",
   "execution_count": 7,
   "id": "d245f5fa",
   "metadata": {},
   "outputs": [
    {
     "ename": "NameError",
     "evalue": "name 'net' is not defined",
     "output_type": "error",
     "traceback": [
      "\u001b[0;31m---------------------------------------------------------------------------\u001b[0m",
      "\u001b[0;31mNameError\u001b[0m                                 Traceback (most recent call last)",
      "Cell \u001b[0;32mIn[7], line 2\u001b[0m\n\u001b[1;32m      1\u001b[0m \u001b[38;5;66;03m# 模型训练：指定训练数据，batchsize,epoch,验证集\u001b[39;00m\n\u001b[0;32m----> 2\u001b[0m \u001b[43mnet\u001b[49m\u001b[38;5;241m.\u001b[39mfit(train_images, train_labels, batch_size\u001b[38;5;241m=\u001b[39m\u001b[38;5;241m128\u001b[39m, epochs\u001b[38;5;241m=\u001b[39m\u001b[38;5;241m3\u001b[39m, verbose\u001b[38;5;241m=\u001b[39m\u001b[38;5;241m1\u001b[39m, validation_split\u001b[38;5;241m=\u001b[39m\u001b[38;5;241m0.1\u001b[39m)\n",
      "\u001b[0;31mNameError\u001b[0m: name 'net' is not defined"
     ]
    }
   ],
   "source": [
    "# 模型训练：指定训练数据，batchsize,epoch,验证集\n",
    "net.fit(train_images, train_labels, batch_size=128, epochs=3, verbose=1, validation_split=0.1)"
   ]
  },
  {
   "cell_type": "markdown",
   "id": "19eb5614",
   "metadata": {},
   "source": [
    "# #模型评估"
   ]
  },
  {
   "cell_type": "code",
   "execution_count": 8,
   "id": "289f224a",
   "metadata": {},
   "outputs": [
    {
     "ename": "NameError",
     "evalue": "name 'net' is not defined",
     "output_type": "error",
     "traceback": [
      "\u001b[0;31m---------------------------------------------------------------------------\u001b[0m",
      "\u001b[0;31mNameError\u001b[0m                                 Traceback (most recent call last)",
      "Cell \u001b[0;32mIn[8], line 2\u001b[0m\n\u001b[1;32m      1\u001b[0m \u001b[38;5;66;03m# 指定测试数据\u001b[39;00m\n\u001b[0;32m----> 2\u001b[0m \u001b[43mnet\u001b[49m\u001b[38;5;241m.\u001b[39mevaluate(test_images, test_labels, verbose\u001b[38;5;241m=\u001b[39m\u001b[38;5;241m1\u001b[39m)\n",
      "\u001b[0;31mNameError\u001b[0m: name 'net' is not defined"
     ]
    }
   ],
   "source": [
    "# 指定测试数据\n",
    "net.evaluate(test_images, test_labels, verbose=1)"
   ]
  },
  {
   "cell_type": "code",
   "execution_count": null,
   "id": "a437757f",
   "metadata": {},
   "outputs": [],
   "source": []
  }
 ],
 "metadata": {
  "kernelspec": {
   "display_name": "tensorflow",
   "language": "python",
   "name": "tensorflow"
  },
  "language_info": {
   "codemirror_mode": {
    "name": "ipython",
    "version": 3
   },
   "file_extension": ".py",
   "mimetype": "text/x-python",
   "name": "python",
   "nbconvert_exporter": "python",
   "pygments_lexer": "ipython3",
   "version": "3.9.19"
  }
 },
 "nbformat": 4,
 "nbformat_minor": 5
}
